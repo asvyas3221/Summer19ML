{
  "nbformat": 4,
  "nbformat_minor": 0,
  "metadata": {
    "colab": {
      "name": "as.ipynb",
      "version": "0.3.2",
      "provenance": [],
      "collapsed_sections": []
    },
    "kernelspec": {
      "name": "python3",
      "display_name": "Python 3"
    }
  },
  "cells": [
    {
      "cell_type": "code",
      "metadata": {
        "id": "JS6ek9tDNCyZ",
        "colab_type": "code",
        "colab": {}
      },
      "source": [
        "from sklearn.datasets import load_digits"
      ],
      "execution_count": 0,
      "outputs": []
    },
    {
      "cell_type": "code",
      "metadata": {
        "id": "g3FpPZm1NeoH",
        "colab_type": "code",
        "colab": {}
      },
      "source": [
        "digit=load_digits()"
      ],
      "execution_count": 0,
      "outputs": []
    },
    {
      "cell_type": "code",
      "metadata": {
        "id": "Fgm2xZ0PP9py",
        "colab_type": "code",
        "colab": {
          "base_uri": "https://localhost:8080/",
          "height": 34
        },
        "outputId": "ff3f2fb4-71cf-4c68-cf19-38ced45dd9bb"
      },
      "source": [
        "dir(digit)"
      ],
      "execution_count": 9,
      "outputs": [
        {
          "output_type": "execute_result",
          "data": {
            "text/plain": [
              "['DESCR', 'data', 'images', 'target', 'target_names']"
            ]
          },
          "metadata": {
            "tags": []
          },
          "execution_count": 9
        }
      ]
    },
    {
      "cell_type": "code",
      "metadata": {
        "id": "2t8PuJ7vQONJ",
        "colab_type": "code",
        "colab": {}
      },
      "source": [
        "features=digit.data"
      ],
      "execution_count": 0,
      "outputs": []
    },
    {
      "cell_type": "code",
      "metadata": {
        "id": "yPnjDGsGQVW7",
        "colab_type": "code",
        "colab": {}
      },
      "source": [
        "label=digit.target"
      ],
      "execution_count": 0,
      "outputs": []
    },
    {
      "cell_type": "code",
      "metadata": {
        "id": "w6AW5jRLQbH4",
        "colab_type": "code",
        "colab": {}
      },
      "source": [
        "from sklearn.model_selection import train_test_split\n",
        "X,x,Y,y=train_test_split(features,label,test_size=0.2)"
      ],
      "execution_count": 0,
      "outputs": []
    },
    {
      "cell_type": "code",
      "metadata": {
        "id": "wJqsP-_NQ-aL",
        "colab_type": "code",
        "colab": {}
      },
      "source": [
        "import matplotlib.pyplot as plt"
      ],
      "execution_count": 0,
      "outputs": []
    },
    {
      "cell_type": "code",
      "metadata": {
        "id": "vC_xKenqRW3f",
        "colab_type": "code",
        "colab": {
          "base_uri": "https://localhost:8080/",
          "height": 286
        },
        "outputId": "d4ccb848-34a5-472e-fd05-7098954b006b"
      },
      "source": [
        "plt.imshow(digit.images[0])"
      ],
      "execution_count": 15,
      "outputs": [
        {
          "output_type": "execute_result",
          "data": {
            "text/plain": [
              "<matplotlib.image.AxesImage at 0x7fd49a3e2b38>"
            ]
          },
          "metadata": {
            "tags": []
          },
          "execution_count": 15
        },
        {
          "output_type": "display_data",
          "data": {
            "image/png": "[encoded data removed]",
            "text/plain": [
              "<Figure size 432x288 with 1 Axes>"
            ]
          },
          "metadata": {
            "tags": []
          }
        }
      ]
    },
    {
      "cell_type": "code",
      "metadata": {
        "id": "TmoUQlK6RiwS",
        "colab_type": "code",
        "colab": {}
      },
      "source": [
        "from sklearn.svm import SVC"
      ],
      "execution_count": 0,
      "outputs": []
    },
    {
      "cell_type": "code",
      "metadata": {
        "id": "TGBEWNlmRu8Q",
        "colab_type": "code",
        "colab": {}
      },
      "source": [
        "#calling clf\n",
        "clf = SVC()"
      ],
      "execution_count": 0,
      "outputs": []
    },
    {
      "cell_type": "code",
      "metadata": {
        "id": "u4MVIZ3RSBAp",
        "colab_type": "code",
        "colab": {
          "base_uri": "https://localhost:8080/",
          "height": 72
        },
        "outputId": "d5b00aad-3ce5-4056-f7e8-ee179262e5d2"
      },
      "source": [
        "trained=clf.fit(X,Y)"
      ],
      "execution_count": 19,
      "outputs": [
        {
          "output_type": "stream",
          "text": [
            "/usr/local/lib/python3.6/dist-packages/sklearn/svm/base.py:193: FutureWarning: The default value of gamma will change from 'auto' to 'scale' in version 0.22 to account better for unscaled features. Set gamma explicitly to 'auto' or 'scale' to avoid this warning.\n",
            "  \"avoid this warning.\", FutureWarning)\n"
          ],
          "name": "stderr"
        }
      ]
    },
    {
      "cell_type": "code",
      "metadata": {
        "id": "Nw3_Jn7FSMFy",
        "colab_type": "code",
        "colab": {}
      },
      "source": [
        "output=trained.predict(x)"
      ],
      "execution_count": 0,
      "outputs": []
    },
    {
      "cell_type": "code",
      "metadata": {
        "id": "PUmtXA1MSUzh",
        "colab_type": "code",
        "colab": {
          "base_uri": "https://localhost:8080/",
          "height": 312
        },
        "outputId": "5332cf95-0670-4e22-89d4-61835b4e5555"
      },
      "source": [
        "output"
      ],
      "execution_count": 21,
      "outputs": [
        {
          "output_type": "execute_result",
          "data": {
            "text/plain": [
              "array([5, 6, 5, 0, 5, 5, 5, 9, 3, 5, 5, 3, 5, 0, 5, 0, 5, 6, 5, 5, 5, 2,\n",
              "       5, 1, 5, 5, 5, 4, 7, 0, 5, 7, 5, 5, 5, 1, 5, 6, 5, 5, 5, 1, 5, 3,\n",
              "       5, 5, 6, 5, 5, 4, 3, 4, 3, 5, 4, 2, 5, 5, 4, 5, 5, 5, 8, 5, 5, 6,\n",
              "       2, 7, 0, 4, 5, 5, 5, 0, 5, 5, 1, 5, 1, 6, 5, 5, 5, 4, 7, 6, 5, 9,\n",
              "       5, 5, 0, 4, 4, 5, 2, 6, 0, 1, 0, 0, 7, 5, 5, 5, 4, 6, 5, 5, 5, 2,\n",
              "       0, 4, 7, 5, 5, 5, 5, 5, 3, 0, 5, 0, 7, 5, 7, 7, 5, 5, 1, 6, 9, 5,\n",
              "       3, 5, 2, 5, 1, 5, 5, 5, 6, 6, 5, 5, 5, 3, 5, 5, 5, 7, 3, 5, 5, 5,\n",
              "       6, 1, 3, 6, 4, 7, 5, 5, 5, 2, 5, 6, 1, 0, 5, 2, 8, 5, 3, 5, 0, 5,\n",
              "       5, 6, 5, 0, 6, 5, 5, 5, 2, 9, 0, 2, 1, 5, 5, 5, 5, 1, 5, 5, 5, 0,\n",
              "       5, 4, 2, 5, 5, 4, 3, 5, 7, 5, 5, 5, 5, 5, 3, 5, 2, 7, 0, 5, 5, 3,\n",
              "       0, 5, 3, 0, 1, 4, 5, 6, 5, 7, 5, 3, 9, 5, 3, 5, 3, 5, 5, 5, 5, 5,\n",
              "       5, 5, 4, 7, 0, 7, 5, 5, 4, 5, 5, 5, 5, 1, 5, 5, 3, 5, 6, 5, 5, 5,\n",
              "       5, 5, 7, 2, 3, 5, 5, 6, 9, 0, 5, 5, 5, 5, 5, 7, 5, 5, 5, 5, 5, 5,\n",
              "       6, 5, 0, 5, 5, 5, 4, 5, 6, 0, 5, 2, 5, 2, 5, 7, 5, 5, 5, 5, 5, 0,\n",
              "       5, 7, 0, 5, 5, 4, 5, 4, 5, 5, 7, 5, 5, 5, 1, 3, 5, 5, 2, 3, 0, 5,\n",
              "       5, 5, 5, 3, 5, 9, 5, 3, 5, 5, 5, 1, 5, 2, 5, 2, 2, 5, 7, 5, 2, 7,\n",
              "       5, 5, 5, 5, 5, 5, 9, 5])"
            ]
          },
          "metadata": {
            "tags": []
          },
          "execution_count": 21
        }
      ]
    },
    {
      "cell_type": "code",
      "metadata": {
        "id": "2cTy-bDhSktr",
        "colab_type": "code",
        "colab": {
          "base_uri": "https://localhost:8080/",
          "height": 312
        },
        "outputId": "879b6344-e502-4355-9447-b711483277b0"
      },
      "source": [
        "y"
      ],
      "execution_count": 22,
      "outputs": [
        {
          "output_type": "execute_result",
          "data": {
            "text/plain": [
              "array([3, 6, 8, 0, 9, 1, 4, 9, 3, 5, 0, 3, 5, 0, 9, 0, 5, 6, 0, 5, 5, 2,\n",
              "       9, 1, 8, 1, 6, 4, 7, 0, 5, 7, 4, 4, 5, 1, 8, 6, 3, 0, 8, 1, 8, 3,\n",
              "       5, 9, 6, 1, 5, 4, 3, 4, 3, 8, 4, 2, 3, 5, 4, 8, 9, 9, 8, 1, 9, 6,\n",
              "       2, 7, 0, 4, 9, 3, 9, 0, 9, 2, 1, 5, 1, 6, 8, 2, 6, 4, 7, 6, 5, 9,\n",
              "       9, 4, 0, 4, 4, 1, 2, 6, 0, 1, 0, 0, 7, 8, 8, 1, 4, 6, 6, 9, 6, 2,\n",
              "       0, 4, 7, 9, 4, 9, 6, 5, 3, 0, 8, 0, 7, 5, 7, 7, 3, 8, 1, 6, 9, 1,\n",
              "       3, 5, 2, 3, 1, 1, 5, 2, 6, 6, 5, 3, 3, 3, 3, 5, 9, 7, 3, 8, 5, 6,\n",
              "       6, 1, 3, 6, 4, 7, 7, 9, 8, 2, 9, 6, 1, 0, 1, 2, 8, 8, 3, 3, 0, 4,\n",
              "       9, 6, 9, 0, 6, 9, 8, 2, 2, 9, 0, 2, 1, 5, 6, 6, 7, 1, 5, 9, 9, 0,\n",
              "       5, 4, 2, 9, 3, 4, 3, 5, 7, 0, 2, 4, 5, 5, 3, 8, 2, 7, 0, 5, 1, 3,\n",
              "       0, 2, 3, 0, 1, 4, 8, 6, 8, 7, 8, 3, 9, 9, 3, 8, 3, 9, 1, 8, 7, 8,\n",
              "       4, 8, 4, 7, 0, 7, 8, 4, 4, 0, 9, 4, 8, 1, 3, 8, 3, 8, 6, 1, 8, 8,\n",
              "       6, 5, 7, 2, 3, 6, 1, 6, 9, 0, 1, 8, 5, 9, 7, 7, 6, 4, 9, 5, 6, 6,\n",
              "       6, 9, 0, 2, 0, 4, 4, 5, 6, 0, 5, 2, 8, 2, 2, 7, 2, 5, 9, 1, 1, 0,\n",
              "       3, 7, 0, 0, 7, 4, 1, 4, 8, 8, 7, 6, 4, 2, 1, 3, 4, 9, 2, 3, 0, 4,\n",
              "       2, 7, 5, 3, 9, 9, 5, 3, 2, 4, 4, 1, 2, 2, 9, 2, 2, 8, 7, 3, 2, 7,\n",
              "       9, 4, 8, 3, 5, 9, 9, 9])"
            ]
          },
          "metadata": {
            "tags": []
          },
          "execution_count": 22
        }
      ]
    },
    {
      "cell_type": "code",
      "metadata": {
        "id": "IIgfyA2qStI8",
        "colab_type": "code",
        "colab": {}
      },
      "source": [
        "from sklearn.metrics import accuracy_score"
      ],
      "execution_count": 0,
      "outputs": []
    },
    {
      "cell_type": "code",
      "metadata": {
        "id": "C_PL2DXfS2NB",
        "colab_type": "code",
        "colab": {
          "base_uri": "https://localhost:8080/",
          "height": 34
        },
        "outputId": "83d3ca5a-5c2b-48a2-b85f-da5d881f4705"
      },
      "source": [
        "accuracy_score(y,output)"
      ],
      "execution_count": 24,
      "outputs": [
        {
          "output_type": "execute_result",
          "data": {
            "text/plain": [
              "0.55"
            ]
          },
          "metadata": {
            "tags": []
          },
          "execution_count": 24
        }
      ]
    },
    {
      "cell_type": "code",
      "metadata": {
        "id": "j9C-CdutS9my",
        "colab_type": "code",
        "colab": {}
      },
      "source": [
        ""
      ],
      "execution_count": 0,
      "outputs": []
    }
  ]
}